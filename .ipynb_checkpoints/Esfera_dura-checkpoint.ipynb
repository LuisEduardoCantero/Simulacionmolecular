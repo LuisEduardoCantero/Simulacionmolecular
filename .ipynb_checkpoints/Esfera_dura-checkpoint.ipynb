{
 "cells": [
  {
   "cell_type": "code",
   "execution_count": 1,
   "metadata": {},
   "outputs": [],
   "source": [
    "# Importamos librerias\n",
    "import numpy as np\n",
    "import matplotlib.pyplot as plt\n",
    "import math\n",
    "from scipy.integrate import quad\n",
    "from scipy import optimize"
   ]
  },
  {
   "cell_type": "code",
   "execution_count": 41,
   "metadata": {},
   "outputs": [
    {
     "name": "stdout",
     "output_type": "stream",
     "text": [
      "Separacion =  1.6666666666666667\n"
     ]
    }
   ],
   "source": [
    "nmoleculas = 200\n",
    "ro=0.6\n",
    "sep=1/ro\n",
    "\n",
    "print(\"Separacion = \", sep)"
   ]
  },
  {
   "cell_type": "code",
   "execution_count": 42,
   "metadata": {},
   "outputs": [
    {
     "data": {
      "text/plain": [
       "[<matplotlib.lines.Line2D at 0x7fa765c652b0>]"
      ]
     },
     "execution_count": 42,
     "metadata": {},
     "output_type": "execute_result"
    },
    {
     "data": {
      "image/png": "[encoded data removed]",
      "text/plain": [
       "<Figure size 1080x360 with 1 Axes>"
      ]
     },
     "metadata": {},
     "output_type": "display_data"
    }
   ],
   "source": [
    "x = []\n",
    "for  i in range(1, nmoleculas + 1):\n",
    "    x.append(sep * i)\n",
    "\n",
    "y = np.zeros(len(x))    \n",
    "plt.rcParams[\"figure.figsize\"] = (15,5)\n",
    "plt.plot(x,y, \"bo\", color = 'g')"
   ]
  },
  {
   "cell_type": "code",
   "execution_count": 75,
   "metadata": {},
   "outputs": [
    {
     "name": "stderr",
     "output_type": "stream",
     "text": [
      "/home/luiscantero/anaconda3/lib/python3.6/site-packages/ipykernel_launcher.py:7: RuntimeWarning: overflow encountered in power\n",
      "  import sys\n",
      "/home/luiscantero/anaconda3/lib/python3.6/site-packages/ipykernel_launcher.py:7: RuntimeWarning: invalid value encountered in subtract\n",
      "  import sys\n"
     ]
    },
    {
     "data": {
      "text/plain": [
       "(-11, 6)"
      ]
     },
     "execution_count": 75,
     "metadata": {},
     "output_type": "execute_result"
    },
    {
     "data": {
      "image/png": "[encoded data removed]",
      "text/plain": [
       "<Figure size 1080x720 with 1 Axes>"
      ]
     },
     "metadata": {},
     "output_type": "display_data"
    }
   ],
   "source": [
    "x8 = np.arange(0.01,5,0.01)\n",
    "lamb = 1000\n",
    "t = 1.44\n",
    "a = lamb * np.power(lamb / (lamb - 1), lamb - 1)\n",
    "b = lamb / (lamb - 1)\n",
    "\n",
    "y0 = (a/t * (np.power((1/x8), lamb) - np.power((1/x8), (lamb - 1))) + 1)\n",
    "y8 = 4 * 1 * ((1/x8) ** 12 - (1/x8) ** 6)\n",
    "\n",
    "plt.plot(x8,y0, \"-\", color = 'b', label=\"ε = 1.0\")\n",
    "plt.plot(x8,y8, \"-\", color = 'b', label=\"ε = 1.0\")\n",
    "plt.ylim(-11, 6)"
   ]
  },
  {
   "cell_type": "code",
   "execution_count": 45,
   "metadata": {},
   "outputs": [],
   "source": [
    "def potencialwca(x1, lamb, sigma, t):\n",
    "    d = []\n",
    "    i=0\n",
    "    a = lamb * np.power(lamb / (lamb - 1), lamb - 1)\n",
    "    b = lamb / (lamb - 1)\n",
    "    while i <= (len(x1) - 1):\n",
    "        j = i + 1\n",
    "        while j < len(x1):\n",
    "            r = x1[i] - x1[j]            \n",
    "            if r < (sigma * b):\n",
    "                pot = (a/t * (np.power((sigma / r), lamb) - np.power((sigma / r), (lamb - 1))) + 1)\n",
    "            if r >= (sigma * b):\n",
    "                pot = 0            \n",
    "            d.append(pot)\n",
    "            j = j + 1\n",
    "        i= i + 1\n",
    "    return np.sum(d)"
   ]
  },
  {
   "cell_type": "code",
   "execution_count": 46,
   "metadata": {},
   "outputs": [
    {
     "data": {
      "text/plain": [
       "19900.0"
      ]
     },
     "execution_count": 46,
     "metadata": {},
     "output_type": "execute_result"
    }
   ],
   "source": [
    "potencialwca(x, 1000, 1, 1.44)"
   ]
  },
  {
   "cell_type": "code",
   "execution_count": null,
   "metadata": {},
   "outputs": [],
   "source": []
  },
  {
   "cell_type": "code",
   "execution_count": null,
   "metadata": {},
   "outputs": [],
   "source": []
  },
  {
   "cell_type": "code",
   "execution_count": null,
   "metadata": {},
   "outputs": [],
   "source": []
  },
  {
   "cell_type": "code",
   "execution_count": null,
   "metadata": {},
   "outputs": [],
   "source": []
  },
  {
   "cell_type": "code",
   "execution_count": null,
   "metadata": {},
   "outputs": [],
   "source": []
  }
 ],
 "metadata": {
  "kernelspec": {
   "display_name": "Python 3",
   "language": "python",
   "name": "python3"
  },
  "language_info": {
   "codemirror_mode": {
    "name": "ipython",
    "version": 3
   },
   "file_extension": ".py",
   "mimetype": "text/x-python",
   "name": "python",
   "nbconvert_exporter": "python",
   "pygments_lexer": "ipython3",
   "version": "3.6.5"
  }
 },
 "nbformat": 4,
 "nbformat_minor": 2
}
