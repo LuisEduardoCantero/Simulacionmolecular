{
 "cells": [
  {
   "cell_type": "markdown",
   "metadata": {},
   "source": [
    "# Obtener la temperatura reducida $T^*$ como una funcion de $\\lambda$ para D = 1 a 5."
   ]
  },
  {
   "cell_type": "code",
   "execution_count": 273,
   "metadata": {},
   "outputs": [],
   "source": [
    "# Importamos librerias\n",
    "import numpy as np\n",
    "import matplotlib.pyplot as plt\n",
    "import math\n",
    "from scipy.integrate import quad\n",
    "from scipy import optimize"
   ]
  },
  {
   "cell_type": "markdown",
   "metadata": {},
   "source": [
    "## Definimos algunas expresiones que debemos evaluar"
   ]
  },
  {
   "cell_type": "markdown",
   "metadata": {},
   "source": [
    "$1 + D \\int_{0}^{\\frac{\\lambda}{\\lambda -\\lambda}} x^{D - 1} f_{CP}(x)dx$"
   ]
  },
  {
   "cell_type": "markdown",
   "metadata": {},
   "source": [
    "Donde:"
   ]
  },
  {
   "cell_type": "markdown",
   "metadata": {},
   "source": [
    "$f_{CP}(x) = e^{-\\beta u_{CP}}(x) - 1$"
   ]
  },
  {
   "cell_type": "markdown",
   "metadata": {},
   "source": [
    "$\\beta = (k_{b}T)^{-1}$"
   ]
  },
  {
   "cell_type": "markdown",
   "metadata": {},
   "source": [
    "$x = \\frac{r}{\\sigma}$"
   ]
  },
  {
   "cell_type": "markdown",
   "metadata": {},
   "source": [
    "$u_{CP}(r) = A \\epsilon\\left[(1/x)^\\lambda - (1/x)^{\\lambda - 1}\\right] + \\epsilon$ si $r < \\sigma B$"
   ]
  },
  {
   "cell_type": "markdown",
   "metadata": {},
   "source": [
    "$u_{CP}(r) = 0$ si $r\\geq \\sigma B$"
   ]
  },
  {
   "cell_type": "markdown",
   "metadata": {},
   "source": [
    "$ A = \\frac{\\lambda_{r}}{\\lambda_{r}-\\lambda_{a}} \\left(\\frac{\\lambda_{r}}{\\lambda_{a}}\\right)^{\\frac{\\lambda_{a}}{\\lambda_{r}-\\lambda_{a}}}$"
   ]
  },
  {
   "cell_type": "markdown",
   "metadata": {},
   "source": [
    "$B = \\left(\\frac{\\lambda_{r}}{\\lambda_{a}}\\right)^{\\frac{1}{\\lambda_{r}-\\lambda_{a}}}$"
   ]
  },
  {
   "cell_type": "markdown",
   "metadata": {},
   "source": [
    "$1 + D \\int_{0}^{\\frac{\\lambda}{\\lambda -\\lambda}} x^{D - 1} (e^{-\\beta u_{CP}} - 1)dx$"
   ]
  },
  {
   "cell_type": "markdown",
   "metadata": {},
   "source": [
    "$1 + D \\int_{0}^{\\frac{\\lambda}{\\lambda -\\lambda}} x^{D - 1} (e^{-(\\frac{1}{k_{b}T}) ( A \\epsilon\\left[(1/x)^\\lambda - (1/x)^{\\lambda - 1}\\right] + \\epsilon)} - 1)dx$"
   ]
  },
  {
   "cell_type": "markdown",
   "metadata": {},
   "source": [
    "$1 + D \\int_{0}^{\\frac{\\lambda}{\\lambda -\\lambda}} x^{D - 1} (e^{-(\\frac{\\epsilon}{k_{b}T}) ( A \\left[(1/x)^\\lambda - (1/x)^{\\lambda - 1}\\right] + 1)} - 1)dx$"
   ]
  },
  {
   "cell_type": "markdown",
   "metadata": {},
   "source": [
    "$T^* \\equiv \\frac{k_{b}T}{\\epsilon}$"
   ]
  },
  {
   "cell_type": "markdown",
   "metadata": {},
   "source": [
    "$1 + D \\int_{0}^{\\frac{\\lambda}{\\lambda -\\lambda}} x^{D - 1} (e^{-(\\frac{1}{T^*}) ( A \\left[(1/x)^\\lambda - (1/x)^{\\lambda - 1}\\right] + 1)} - 1)dx$"
   ]
  },
  {
   "cell_type": "code",
   "execution_count": 313,
   "metadata": {},
   "outputs": [],
   "source": [
    "dx = 0.00001 # funciona mejor con 0.00001 para 2, 3, 4 y 5 D. 0.00001 para D = 1.\n",
    "\n",
    "def integra(expresion):\n",
    "    u = 0\n",
    "    for j in range(1, len(expresion)-1):\n",
    "        are = (expresion[j] + expresion[j+1])/2 * dx\n",
    "        u += are\n",
    "    return u + 2 * (expresion[1])/2 * dx\n",
    "\n",
    "def area(t, lamb, d):\n",
    "    x = np.longdouble(np.arange(0.000001, lamb / (lamb - 1), dx)) #np.float128\n",
    "    tred = t\n",
    "    a = lamb * np.power(lamb / (lamb - 1), lamb - 1)\n",
    "    b = lamb / (lamb - 1)\n",
    "    expon = np.exp(-(1/tred) * (a * (np.power((1/x), lamb) - np.power((1/x), (lamb - 1))) + 1))\n",
    "    expresion = np.power(x, d - 1) * (expon - 1)\n",
    "    return integra(expresion) * d + 1\n",
    "\n",
    "def raiz(t, des, lamb, d):\n",
    "    while np.absolute(area(t, lamb, d)) > 0.00000001:#funciona con 0.000001 en D= 2, 3, 4, y 5. 0.0000001 en D= 1.\n",
    "        a2 = area(t, lamb, d)\n",
    "        a1 = area(t+des, lamb, d)\n",
    "        m = (a2 - a1) / (-des)\n",
    "        b = a2 - m * t\n",
    "        t = -b / m   \n",
    "    return t\n",
    " \n",
    "def tred(d):\n",
    "    f = []\n",
    "    for lamb in range(10, 1000, 10):\n",
    "        t = 1.46\n",
    "        f.append(raiz(t, 0.00001, lamb, d))\n",
    "    return f"
   ]
  },
  {
   "cell_type": "code",
   "execution_count": 314,
   "metadata": {},
   "outputs": [
    {
     "name": "stderr",
     "output_type": "stream",
     "text": [
      "/home/luiscantero/anaconda3/lib/python3.6/site-packages/ipykernel_launcher.py:15: RuntimeWarning: overflow encountered in power\n",
      "  from ipykernel import kernelapp as app\n",
      "/home/luiscantero/anaconda3/lib/python3.6/site-packages/ipykernel_launcher.py:15: RuntimeWarning: invalid value encountered in subtract\n",
      "  from ipykernel import kernelapp as app\n"
     ]
    }
   ],
   "source": [
    "f1 = tred(1)\n",
    "#f2 = tred(2) \n",
    "#f3 = tred(3) \n",
    "#f4 = tred(4) \n",
    "#f5 = tred(5) \n",
    "\n",
    "xx = np.arange(10, 1000, 10)"
   ]
  },
  {
   "cell_type": "code",
   "execution_count": 315,
   "metadata": {},
   "outputs": [
    {
     "data": {
      "text/plain": [
       "<matplotlib.legend.Legend at 0x7fb223342d68>"
      ]
     },
     "execution_count": 315,
     "metadata": {},
     "output_type": "execute_result"
    },
    {
     "data": {
      "image/png": "[encoded data removed]",
      "text/plain": [
       "<Figure size 576x576 with 1 Axes>"
      ]
     },
     "metadata": {},
     "output_type": "display_data"
    }
   ],
   "source": [
    "plt.rcParams[\"figure.figsize\"] = (8,8)\n",
    "plt.xlim(10, 1000)\n",
    "plt.ylim(1.43, 1.65)\n",
    "plt.xlabel(\"$\\lambda$\")\n",
    "plt.ylabel(\"$T^{*}$\")\n",
    "plt.semilogx(xx, f1, \"-\", color = 'k', label = \"D = 1\")\n",
    "plt.semilogx(xx, f2, \"-\", color = 'r', label = \"D = 2\")\n",
    "plt.semilogx(xx, f3, \"-\", color = 'b', label = \"D = 3\")\n",
    "plt.semilogx(xx, f4, \"-\", color = 'g', label = \"D = 4\")\n",
    "plt.semilogx(xx, f5, \"-\", color = 'm', label = \"D = 5\")\n",
    "plt.grid(b=None, which='major', axis='both')\n",
    "plt.legend()"
   ]
  }
 ],
 "metadata": {
  "kernelspec": {
   "display_name": "Python 3",
   "language": "python",
   "name": "python3"
  },
  "language_info": {
   "codemirror_mode": {
    "name": "ipython",
    "version": 3
   },
   "file_extension": ".py",
   "mimetype": "text/x-python",
   "name": "python",
   "nbconvert_exporter": "python",
   "pygments_lexer": "ipython3",
   "version": "3.6.5"
  }
 },
 "nbformat": 4,
 "nbformat_minor": 2
}
